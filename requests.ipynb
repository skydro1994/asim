{
 "cells": [
  {
   "cell_type": "code",
   "execution_count": 2,
   "metadata": {},
   "outputs": [],
   "source": [
    "import requests"
   ]
  },
  {
   "cell_type": "code",
   "execution_count": 33,
   "metadata": {
    "collapsed": true
   },
   "outputs": [],
   "source": [
    "s = requests.Session()"
   ]
  },
  {
   "cell_type": "code",
   "execution_count": 12,
   "metadata": {},
   "outputs": [
    {
     "name": "stderr",
     "output_type": "stream",
     "text": [
      "C:\\Anaconda\\lib\\site-packages\\urllib3\\connectionpool.py:858: InsecureRequestWarning: Unverified HTTPS request is being made. Adding certificate verification is strongly advised. See: https://urllib3.readthedocs.io/en/latest/advanced-usage.html#ssl-warnings\n",
      "  InsecureRequestWarning)\n"
     ]
    }
   ],
   "source": [
    "r = requests.get(\"https://websim2.worldquantchallenge.com/login\", verify=False)"
   ]
  },
  {
   "cell_type": "code",
   "execution_count": 26,
   "metadata": {},
   "outputs": [],
   "source": [
    "data = {\"delay\":\"1\",\"unitcheck\":\"off\",\"univid\":\"TOP100\",\"opcodetype\":\"EXPRESSION\",\"opassetclass\":\"EQUITY\",\"optrunc\":0.01,\"code\":\"777\",\"region\":\"EUR\",\"opneut\":\"industry\",\"IntradayType\":'null',\"tags\":\"equity\",\"decay\":17,\"dataviz\":\"0\",\"backdays\":256,\"simtime\":\"Y5\"}"
   ]
  },
  {
   "cell_type": "code",
   "execution_count": 28,
   "metadata": {},
   "outputs": [
    {
     "name": "stderr",
     "output_type": "stream",
     "text": [
      "C:\\Anaconda\\lib\\site-packages\\urllib3\\connectionpool.py:858: InsecureRequestWarning: Unverified HTTPS request is being made. Adding certificate verification is strongly advised. See: https://urllib3.readthedocs.io/en/latest/advanced-usage.html#ssl-warnings\n",
      "  InsecureRequestWarning)\n",
      "C:\\Anaconda\\lib\\site-packages\\urllib3\\connectionpool.py:858: InsecureRequestWarning: Unverified HTTPS request is being made. Adding certificate verification is strongly advised. See: https://urllib3.readthedocs.io/en/latest/advanced-usage.html#ssl-warnings\n",
      "  InsecureRequestWarning)\n"
     ]
    }
   ],
   "source": [
    "r=requests.post('https://websim2.worldquantchallenge.com/simulate', json=data, verify=False)"
   ]
  },
  {
   "cell_type": "code",
   "execution_count": 30,
   "metadata": {},
   "outputs": [
    {
     "name": "stderr",
     "output_type": "stream",
     "text": [
      "C:\\Anaconda\\lib\\site-packages\\urllib3\\connectionpool.py:858: InsecureRequestWarning: Unverified HTTPS request is being made. Adding certificate verification is strongly advised. See: https://urllib3.readthedocs.io/en/latest/advanced-usage.html#ssl-warnings\n",
      "  InsecureRequestWarning)\n",
      "C:\\Anaconda\\lib\\site-packages\\urllib3\\connectionpool.py:858: InsecureRequestWarning: Unverified HTTPS request is being made. Adding certificate verification is strongly advised. See: https://urllib3.readthedocs.io/en/latest/advanced-usage.html#ssl-warnings\n",
      "  InsecureRequestWarning)\n"
     ]
    }
   ],
   "source": [
    "r=requests.post('https://websim2.worldquantchallenge.com/simulate', verify=False)"
   ]
  },
  {
   "cell_type": "code",
   "execution_count": 31,
   "metadata": {},
   "outputs": [
    {
     "data": {
      "text/plain": [
       "200"
      ]
     },
     "execution_count": 31,
     "metadata": {},
     "output_type": "execute_result"
    }
   ],
   "source": [
    "r.status_code"
   ]
  },
  {
   "cell_type": "code",
   "execution_count": 35,
   "metadata": {},
   "outputs": [
    {
     "name": "stderr",
     "output_type": "stream",
     "text": [
      "C:\\Anaconda\\lib\\site-packages\\urllib3\\connectionpool.py:858: InsecureRequestWarning: Unverified HTTPS request is being made. Adding certificate verification is strongly advised. See: https://urllib3.readthedocs.io/en/latest/advanced-usage.html#ssl-warnings\n",
      "  InsecureRequestWarning)\n",
      "C:\\Anaconda\\lib\\site-packages\\urllib3\\connectionpool.py:858: InsecureRequestWarning: Unverified HTTPS request is being made. Adding certificate verification is strongly advised. See: https://urllib3.readthedocs.io/en/latest/advanced-usage.html#ssl-warnings\n",
      "  InsecureRequestWarning)\n"
     ]
    }
   ],
   "source": [
    "url = \"https://websim2.worldquantchallenge.com/simulate\"\n",
    "headers = {'user-agent': \"Mozilla/5.0 (Windows NT 10.0; WOW64) AppleWebKit/537.36 (KHTML, like Gecko) Chrome/57.0.2987.98 Safari/537.36\"}\n",
    "cookies = {'PHPSESSID':'zzzzzzzzzzzzzzz', 'loggedIn':'yes'}\n",
    "\n",
    "s = requests.Session()\n",
    "r = s.post(url, headers=headers, cookies=cookies, verify=False)"
   ]
  },
  {
   "cell_type": "code",
   "execution_count": 37,
   "metadata": {},
   "outputs": [
    {
     "data": {
      "text/plain": [
       "u'<!doctype html>\\n\\n\\n\\n\\n\\n\\n\\n\\n\\n\\n\\n\\n\\n\\n\\n\\n<!--[if IE]>\\n<html lang=\"en-us\" class=\"ie\">\\n<![endif]-->\\n<!--[if !IE]><!-->\\n<html lang=\"en-us\">\\n<!--<![endif]-->\\n<head>\\n<title>\\nLogin / Register\\n</title>\\n<meta charset=\"utf-8\">\\n<meta http-equiv=\"X-UA-Compatible\" content=\"IE=edge\">\\n<meta name=\"viewport\" content=\"width=device-width, initial-scale=1\">\\n<meta name=\"keywords\" content=\"finance, modeling, alpha, statistical arbitrage, statarb, quant, quantitative, WorldQuant, investment, algo, algorithmic\">\\n\\n\\n<meta name=\"google-site-verification\" content=\"_fyuuCp2a3_HdQtZdYd-iXQwCfHSVJztlGGcxnv2Tvk\" />\\n\\n\\n\\n\\n<!-- Facebook Pixel Code -->\\n<script>\\n!function(f,b,e,v,n,t,s)\\n{if(f.fbq)return;n=f.fbq=function(){n.callMethod?\\nn.callMethod.apply(n,arguments):n.queue.push(arguments)};\\nif(!f._fbq)f._fbq=n;n.push=n;n.loaded=!0;n.version=\\'2.0\\';\\nn.queue=[];t=b.createElement(e);t.async=!0;\\nt.src=v;s=b.getElementsByTagName(e)[0];\\ns.parentNode.insertBefore(t,s)}(window, document,\\'script\\',\\n\\'https://connect.facebook.net/en_US/fbevents.js\\');\\nfbq(\\'init\\', \\'318294178660301\\');\\nfbq(\\'track\\', \\'PageView\\');\\n</script>\\n<noscript><img height=\"1\" width=\"1\" style=\"display:none\"\\nsrc=\"https://www.facebook.com/tr?id=318294178660301&ev=PageView&noscript=1\"\\n/></noscript>\\n<!-- End Facebook Pixel Code -->\\n\\n\\n<link href=\"/css/build/legacy.css\" rel=\"stylesheet\"></link>\\n<link href=\"/css/build/app.css\" rel=\"stylesheet\"></link>\\n<script src=\"/js/build/legacy.js\"></script>\\n<style id=\"antiClickjacking\">\\nbody{\\ndisplay:none !important\\n}\\n</style>\\n<script>\\nif (self === top) {\\nvar antiClickjacking = document.getElementById(\"antiClickjacking\");\\nantiClickjacking.parentNode.removeChild(antiClickjacking);\\n}\\nelse {\\ntop.location = self.location;\\n}\\n</script>\\n</head>\\n<body>\\n\\n<nav class=\"navbar navbar-default navbar-fixed-top\">\\n</nav>\\n\\n\\n\\n<main class=\"container-fluid\">\\n<section class=\"row \">\\n\\n<div class=\"alert-container\">\\n</div>\\n\\n</section>\\n<header class=\"row \">\\n\\n<div class=\"page-header col-xs-12 col-sm-offset-1 col-sm-10\">\\n<h1>Login / Register</h1>\\n</div>\\n\\n</header>\\n<article class=\"row ws-page-login\">\\n\\n</article>\\n<footer class=\"row hidden\">\\n\\n</footer>\\n</main>\\n<script>\\n(function(i,s,o,g,r,a,m){i[\\'GoogleAnalyticsObject\\']=r;i[r]=i[r]||function(){\\n(i[r].q=i[r].q||[]).push(arguments)},i[r].l=1*new Date();a=s.createElement(o),\\nm=s.getElementsByTagName(o)[0];a.async=1;a.src=g;m.parentNode.insertBefore(a,m)\\n})(window,document,\\'script\\',\\'//www.google-analytics.com/analytics.js\\',\\'ga\\');\\n\\nga(\\'create\\', \\'UA-34958242-1\\', \\'auto\\');\\nga(\\'create\\', \\'UA-57944481-3\\', \\'auto\\', {\\'name\\' : \\'wsdevTracker\\'});\\n\\nga(\\'send\\', \\'pageview\\');\\nga(\\'wsdevTracker.send\\', \\'pageview\\');\\n</script>\\n<!-- <noscript><iframe src=\"//www.googletagmanager.com/ns.html?id=GTM-WFC38F\"\\nheight=\"0\" width=\"0\" style=\"display:none;visibility:hidden\"></iframe></noscript>\\n<script>(function(w,d,s,l,i){w[l]=w[l]||[];w[l].push({\\'gtm.start\\':\\nnew Date().getTime(),event:\\'gtm.js\\'});var f=d.getElementsByTagName(s)[0],\\nj=d.createElement(s),dl=l!=\\'dataLayer\\'?\\'&l=\\'+l:\\'\\';j.async=true;j.src=\\n\\'//www.googletagmanager.com/gtm.js?id=\\'+i+dl;f.parentNode.insertBefore(j,f);\\n})(window,document,\\'script\\',\\'dataLayer\\',\\'GTM-WFC38F\\');</script> -->\\n\\n<script>\\n// single quote is important as alertMessage has double qoute\\nvar siteKey = \\'\\';\\nvar emailAdd = \\'\\';\\nvar confirmHash = \\'\\';\\nvar alertMessage = \\'\\';\\n\\nvar alertContainer;\\n$(function() {\\nalertContainer = $(\".alert-container\");\\nif(alertMessage) {\\nshowAlertFromServer(alertType, alertMessage, alertContainer);\\n}\\n});\\n</script>\\n<script src=\"https://www.google.com/recaptcha/api.js?onload=onCaptchaApiLoad&render=explicit\" async></script>\\n<!-- <script src=\"/js/build/manifest.js\"></script> -->\\n<script src=\"/js/build/vendor.js\"></script>\\n<script src=\"/js/build/app.js\"></script>\\n</body>\\n</html>\\n'"
      ]
     },
     "execution_count": 37,
     "metadata": {},
     "output_type": "execute_result"
    }
   ],
   "source": [
    "r.text\n"
   ]
  },
  {
   "cell_type": "code",
   "execution_count": null,
   "metadata": {
    "collapsed": true
   },
   "outputs": [],
   "source": []
  }
 ],
 "metadata": {
  "kernelspec": {
   "display_name": "Python 2",
   "language": "python",
   "name": "python2"
  },
  "language_info": {
   "codemirror_mode": {
    "name": "ipython",
    "version": 2
   },
   "file_extension": ".py",
   "mimetype": "text/x-python",
   "name": "python",
   "nbconvert_exporter": "python",
   "pygments_lexer": "ipython2",
   "version": "2.7.13"
  }
 },
 "nbformat": 4,
 "nbformat_minor": 2
}
